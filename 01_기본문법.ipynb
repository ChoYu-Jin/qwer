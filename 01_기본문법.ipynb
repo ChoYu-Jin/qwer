{
 "cells": [
  {
   "cell_type": "markdown",
   "metadata": {},
   "source": [
    "### 세미콜론\n",
    "- 파이썬은 문장의 마지막에 세미콜론을 생략해도 된다."
   ]
  },
  {
   "cell_type": "code",
   "execution_count": 1,
   "metadata": {},
   "outputs": [
    {
     "name": "stdout",
     "output_type": "stream",
     "text": [
      "Hello World\n",
      "Hello World\n"
     ]
    }
   ],
   "source": [
    "print('Hello World')\n",
    "print('Hello World');"
   ]
  },
  {
   "cell_type": "code",
   "execution_count": 3,
   "metadata": {},
   "outputs": [
    {
     "name": "stdout",
     "output_type": "stream",
     "text": [
      "Hello World\n",
      "Hello World\n"
     ]
    }
   ],
   "source": [
    "print('Hello World'); print('Hello World')"
   ]
  },
  {
   "cell_type": "markdown",
   "metadata": {},
   "source": [
    "### 주석\n",
    "- 실행시 무시되는 부분\n",
    "- 설명을 작성하거나 특정 코드를 수행하지 않게 하기 위해서 사용한다."
   ]
  },
  {
   "cell_type": "code",
   "execution_count": 5,
   "metadata": {},
   "outputs": [
    {
     "name": "stdout",
     "output_type": "stream",
     "text": [
      "Hello World\n"
     ]
    }
   ],
   "source": [
    "print('Hello World')\n",
    "# print('Hello World')"
   ]
  },
  {
   "cell_type": "code",
   "execution_count": 1,
   "metadata": {},
   "outputs": [],
   "source": [
    "# 원하는 만큼 고르고 ctrl / 를 누르면 주석처리 했다가 풀었다가 할 수\n",
    "# 있다.\n",
    "# print('Hello world')\n",
    "# print('Hello world')\n",
    "# print('Hello world')"
   ]
  },
  {
   "cell_type": "markdown",
   "metadata": {},
   "source": [
    "### 출력문\n",
    "- print : 파이썬에서 기본 제공하는 출력문\n",
    "- display : 주피터에서 사용 가능한 출력문\n",
    "- 변수, 값, 수식 등을 셀 제일 하단에 작성하면 그것을 display를 사용한\n",
    "- 것과 동일한 형태로 출력해준다."
   ]
  },
  {
   "cell_type": "code",
   "execution_count": 2,
   "metadata": {},
   "outputs": [
    {
     "name": "stdout",
     "output_type": "stream",
     "text": [
      "안녕하세요\n"
     ]
    },
    {
     "data": {
      "text/plain": [
       "'안녕하세요'"
      ]
     },
     "metadata": {},
     "output_type": "display_data"
    },
    {
     "data": {
      "text/plain": [
       "'안녕하세요'"
      ]
     },
     "execution_count": 2,
     "metadata": {},
     "output_type": "execute_result"
    }
   ],
   "source": [
    "print('안녕하세요')\n",
    "display('안녕하세요')\n",
    "'안녕하세요'"
   ]
  },
  {
   "cell_type": "code",
   "execution_count": 3,
   "metadata": {},
   "outputs": [
    {
     "data": {
      "text/plain": [
       "11.11"
      ]
     },
     "execution_count": 3,
     "metadata": {},
     "output_type": "execute_result"
    }
   ],
   "source": [
    "'동해물과 백두산이'\n",
    "100\n",
    "'마르고 닳도록'\n",
    "11.11"
   ]
  },
  {
   "cell_type": "markdown",
   "metadata": {},
   "source": [
    "### 값을 작성하는 방법\n",
    "- 정수 : 100\n",
    "- 실수 : 11.11\n",
    "- 불리언 : True, False\n",
    "- 문자열 : '', \"\", ''' ''', \"\"\" \"\"\", f로 시작하는 문자열\n",
    "- 없다라는 의미 : None\n",
    "- 복소수 : 10 + 3j\n",
    "- 지수 : 3.14e10"
   ]
  },
  {
   "cell_type": "code",
   "execution_count": 5,
   "metadata": {},
   "outputs": [
    {
     "name": "stdout",
     "output_type": "stream",
     "text": [
      "100\n",
      "11.11\n",
      "True\n",
      "False\n",
      "None\n",
      "(10+3j)\n",
      "31400000000.0\n",
      "1000000000000\n"
     ]
    }
   ],
   "source": [
    "print(100)\n",
    "print(11.11)\n",
    "print(True)\n",
    "print(False)\n",
    "print(None)\n",
    "print(10 + 3j)\n",
    "print(3.14e10)\n",
    "print(1_000_000_000_000)"
   ]
  },
  {
   "cell_type": "code",
   "execution_count": 6,
   "metadata": {},
   "outputs": [
    {
     "name": "stdout",
     "output_type": "stream",
     "text": [
      "100\n",
      "11.11\n"
     ]
    }
   ],
   "source": [
    "# 변수\n",
    "# 파이썬에서 변수 선언은 한번도 사용하지 않은 이름의 변수에 값을 넣어\n",
    "# 주는 코드를 작성하면 그 때 변수가 생성된다.\n",
    "a1 = 100\n",
    "a2 = 11.11\n",
    "\n",
    "print(a1)\n",
    "print(a2)"
   ]
  },
  {
   "cell_type": "code",
   "execution_count": 7,
   "metadata": {},
   "outputs": [
    {
     "name": "stdout",
     "output_type": "stream",
     "text": [
      "문자열입니다\n",
      "문자열입니다\n"
     ]
    }
   ],
   "source": [
    "# 파이썬에서는 문자열을 작은 '', \"\"로 묶어준다.\n",
    "str1 = '문자열입니다'\n",
    "str2 = \"문자열입니다\"\n",
    "\n",
    "print(str1)\n",
    "print(str2)"
   ]
  },
  {
   "cell_type": "code",
   "execution_count": 9,
   "metadata": {},
   "outputs": [
    {
     "name": "stdout",
     "output_type": "stream",
     "text": [
      "이름은 \"홍길동\" 입니다\n",
      "이름은 '홍길동' 입니다\n"
     ]
    }
   ],
   "source": [
    "# 작은 따옴표가 포함된 문자열은 큰 따옴표로 묶어주고\n",
    "# 큰 따옴표가 포함된 문자열은 작은 따옴표로 묶어준다.\n",
    "str1 = '이름은 \"홍길동\" 입니다'\n",
    "str2 = \"이름은 '홍길동' 입니다\"\n",
    "\n",
    "print(str1)\n",
    "print(str2)"
   ]
  },
  {
   "cell_type": "code",
   "execution_count": 10,
   "metadata": {},
   "outputs": [
    {
     "name": "stdout",
     "output_type": "stream",
     "text": [
      "이름은 \"홍길동\"이고 나이는 '30살' 입니다\n"
     ]
    }
   ],
   "source": [
    "# 작성한것 그대로 관리하는 문자열\n",
    "str1 = '''이름은 \"홍길동\"이고 나이는 '30살' 입니다'''\n",
    "print(str1)"
   ]
  },
  {
   "cell_type": "code",
   "execution_count": 11,
   "metadata": {},
   "outputs": [
    {
     "name": "stdout",
     "output_type": "stream",
     "text": [
      "\n",
      "    동해물과 백두산이\n",
      "    마르고 닳도록\n",
      "    하느님이 보우하사\n",
      "    우리나라 만세\n",
      "\n"
     ]
    }
   ],
   "source": [
    "str2 = '''\n",
    "    동해물과 백두산이\n",
    "    마르고 닳도록\n",
    "    하느님이 보우하사\n",
    "    우리나라 만세\n",
    "'''\n",
    "print(str2)"
   ]
  },
  {
   "cell_type": "code",
   "execution_count": 19,
   "metadata": {},
   "outputs": [
    {
     "name": "stdout",
     "output_type": "stream",
     "text": [
      "이름은 홍길동이고 나이는 30살 입니다\n",
      "이름은 홍길동이고 나이는 30살 입니다\n",
      "이름은 홍길동이고 나이는 30살 입니다\n",
      "이름은 홍길동이고 나이는 30살 입니다\n"
     ]
    }
   ],
   "source": [
    "# 포멧 문자열\n",
    "# 값을 지정하여 문자열을 완성한다.\n",
    "name = '홍길동'\n",
    "age = 30\n",
    "\n",
    "str1 = '이름은 ' + name + '이고 나이는 ' + str(age) + '살 입니다'\n",
    "print(str1)\n",
    "\n",
    "# 문자 : %s, 정수 : %d, 실수 : %f, 그 외 : %s\n",
    "# 문자열 값을 %d로 지정하면 변환시 오류가 발생하기 때문에\n",
    "# 대입할 값의 타입과 맞는 문자를 지정해야 된다.\n",
    "str2 = '이름은 %s이고 나이는 %d살 입니다' % (name, age)\n",
    "print(str2)\n",
    "\n",
    "str3 = '이름은 {0}이고 나이는 {1}살 입니다'.format(name, age)\n",
    "print(str3)\n",
    "\n",
    "str4 = f'이름은 {name}이고 나이는 {age}살 입니다'\n",
    "print(str4)"
   ]
  },
  {
   "cell_type": "code",
   "execution_count": null,
   "metadata": {},
   "outputs": [],
   "source": []
  },
  {
   "cell_type": "code",
   "execution_count": null,
   "metadata": {},
   "outputs": [],
   "source": []
  },
  {
   "cell_type": "code",
   "execution_count": null,
   "metadata": {},
   "outputs": [],
   "source": []
  }
 ],
 "metadata": {
  "kernelspec": {
   "display_name": "Python 3 (ipykernel)",
   "language": "python",
   "name": "python3"
  },
  "language_info": {
   "codemirror_mode": {
    "name": "ipython",
    "version": 3
   },
   "file_extension": ".py",
   "mimetype": "text/x-python",
   "name": "python",
   "nbconvert_exporter": "python",
   "pygments_lexer": "ipython3",
   "version": "3.11.4"
  },
  "varInspector": {
   "cols": {
    "lenName": 16,
    "lenType": 16,
    "lenVar": 40
   },
   "kernels_config": {
    "python": {
     "delete_cmd_postfix": "",
     "delete_cmd_prefix": "del ",
     "library": "var_list.py",
     "varRefreshCmd": "print(var_dic_list())"
    },
    "r": {
     "delete_cmd_postfix": ") ",
     "delete_cmd_prefix": "rm(",
     "library": "var_list.r",
     "varRefreshCmd": "cat(var_dic_list()) "
    }
   },
   "types_to_exclude": [
    "module",
    "function",
    "builtin_function_or_method",
    "instance",
    "_Feature"
   ],
   "window_display": false
  }
 },
 "nbformat": 4,
 "nbformat_minor": 4
}
