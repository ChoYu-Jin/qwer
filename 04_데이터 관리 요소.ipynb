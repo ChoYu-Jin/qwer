{
 "cells": [
  {
   "cell_type": "markdown",
   "metadata": {},
   "source": [
    "### 변수\n",
    "- 값 하나를 저장하고 저장된 값을 가져다 사용할 수 있도록 제공되는 요소"
   ]
  },
  {
   "cell_type": "code",
   "execution_count": 1,
   "metadata": {},
   "outputs": [],
   "source": [
    "# 파이썬은 변수를 만들어 줄 때 사용하지 않았던 변수의 이름으로\n",
    "# 정의해서 값을 넣어주는 작업을 하면 된다.\n",
    "a1 = 100\n",
    "a2 = 11.11\n",
    "a3 = True\n",
    "a4 = False\n",
    "a5 = '문자열'"
   ]
  },
  {
   "cell_type": "code",
   "execution_count": 2,
   "metadata": {},
   "outputs": [
    {
     "name": "stdout",
     "output_type": "stream",
     "text": [
      "100\n",
      "11.11\n",
      "True\n",
      "False\n",
      "문자열\n"
     ]
    }
   ],
   "source": [
    "# 변수만 사용하면 값을 가져올 수 있다.\n",
    "print(a1)\n",
    "print(a2)\n",
    "print(a3)\n",
    "print(a4)\n",
    "print(a5)"
   ]
  },
  {
   "cell_type": "code",
   "execution_count": 3,
   "metadata": {},
   "outputs": [
    {
     "name": "stdout",
     "output_type": "stream",
     "text": [
      "<class 'int'>\n",
      "<class 'float'>\n",
      "<class 'bool'>\n",
      "<class 'bool'>\n",
      "<class 'str'>\n"
     ]
    }
   ],
   "source": [
    "# type 함수를 사용하면 변수에 저장되어 있는 값의 타입을 알 수 있다.\n",
    "print(type(a1))\n",
    "print(type(a2))\n",
    "print(type(a3))\n",
    "print(type(a4))\n",
    "print(type(a5))"
   ]
  },
  {
   "cell_type": "markdown",
   "metadata": {},
   "source": [
    "### 튜플\n",
    "- 인덱스 번호(0 부터 1씩 증가)를 통해 데이터를 관리한다.\n",
    "- 읽기 전용\n",
    "- 리스트에 비해서 메모리를 적게 사용한다.\n",
    "- 리스트에 비해 데이터를 읽어오는 속도가 빠르다."
   ]
  },
  {
   "cell_type": "code",
   "execution_count": 4,
   "metadata": {},
   "outputs": [
    {
     "name": "stdout",
     "output_type": "stream",
     "text": [
      "<class 'tuple'>\n",
      "()\n"
     ]
    }
   ],
   "source": [
    "# 함수를 통한 생성\n",
    "# 텅 비어있는 튜플이 생성되므로 사용하는 의미가 없다.\n",
    "t1 = tuple()\n",
    "print(type(t1))\n",
    "print(t1)"
   ]
  },
  {
   "cell_type": "code",
   "execution_count": 5,
   "metadata": {},
   "outputs": [
    {
     "name": "stdout",
     "output_type": "stream",
     "text": [
      "<class 'tuple'>\n",
      "()\n"
     ]
    }
   ],
   "source": [
    "# 기호를 통한 튜플 생성\n",
    "# 관리할 값이 없기 때문에 생성하는데 의미가 없다.\n",
    "# 사용X\n",
    "t2 = ()\n",
    "print(type(t2))\n",
    "print(t2)"
   ]
  },
  {
   "cell_type": "code",
   "execution_count": 6,
   "metadata": {},
   "outputs": [
    {
     "name": "stdout",
     "output_type": "stream",
     "text": [
      "<class 'tuple'>\n",
      "(10, 20, 30, 40, 50)\n"
     ]
    }
   ],
   "source": [
    "# 관리할 값들을 지정해서 튜플을 생성한다.\n",
    "t3 = (10, 20, 30, 40, 50)\n",
    "print(type(t3))\n",
    "print(t3)"
   ]
  },
  {
   "cell_type": "code",
   "execution_count": 7,
   "metadata": {},
   "outputs": [
    {
     "name": "stdout",
     "output_type": "stream",
     "text": [
      "<class 'tuple'>\n",
      "(10, 20, 30, 40, 50)\n"
     ]
    }
   ],
   "source": [
    "# 기호 없이 값들만 나열해서 생성\n",
    "t4 = 10, 20, 30, 40, 50\n",
    "print(type(t4))\n",
    "print(t4)"
   ]
  },
  {
   "cell_type": "code",
   "execution_count": 8,
   "metadata": {},
   "outputs": [],
   "source": [
    "# 다수의 값을 반환하기 위한 함수\n",
    "def test1(a1, a2) :\n",
    "    r1 = a1 + a2\n",
    "    r2 = a1 - a2\n",
    "    r3 = a1 * a2\n",
    "    r4 = a1 // a2\n",
    "    \n",
    "    # 쉼표로 구분해서 값들을 나열하였기 때문에\n",
    "    # 튜플로 생성되어 튜플이 반환된다.\n",
    "    return r1, r2, r3, r4"
   ]
  },
  {
   "cell_type": "code",
   "execution_count": 9,
   "metadata": {},
   "outputs": [
    {
     "name": "stdout",
     "output_type": "stream",
     "text": [
      "<class 'tuple'>\n",
      "(13, 7, 30, 3)\n"
     ]
    }
   ],
   "source": [
    "t5 = test1(10, 3)\n",
    "print(type(t5))\n",
    "print(t5)"
   ]
  },
  {
   "cell_type": "code",
   "execution_count": 10,
   "metadata": {},
   "outputs": [
    {
     "name": "stdout",
     "output_type": "stream",
     "text": [
      "0 : 10\n",
      "1 : 20\n",
      "2 : 30\n",
      "3 : 40\n",
      "4 : 50\n"
     ]
    }
   ],
   "source": [
    "# 튜플이 관리하는 값을 가져온다.\n",
    "# 0 부터 1씩 증가하는 인덱스 : 앞에서 부터 접근해서 가져온다.\n",
    "print(f'0 : {t4[0]}')\n",
    "print(f'1 : {t4[1]}')\n",
    "print(f'2 : {t4[2]}')\n",
    "print(f'3 : {t4[3]}')\n",
    "print(f'4 : {t4[4]}')"
   ]
  },
  {
   "cell_type": "code",
   "execution_count": 11,
   "metadata": {},
   "outputs": [
    {
     "name": "stdout",
     "output_type": "stream",
     "text": [
      "-1 : 50\n",
      "-2 : 40\n",
      "-3 : 30\n",
      "-4 : 20\n",
      "-5 : 10\n"
     ]
    }
   ],
   "source": [
    "# 파이썬은 마이너스 인덱스가 있다.\n",
    "# -1 부터 시작하고 1씩 감소되는 인덱스이다.\n",
    "# 뒤에서부터 앞으로 탐색해서 접근한다.\n",
    "print(f'-1 : {t4[-1]}')\n",
    "print(f'-2 : {t4[-2]}')\n",
    "print(f'-3 : {t4[-3]}')\n",
    "print(f'-4 : {t4[-4]}')\n",
    "print(f'-5 : {t4[-5]}')"
   ]
  },
  {
   "cell_type": "code",
   "execution_count": 12,
   "metadata": {},
   "outputs": [
    {
     "data": {
      "text/plain": [
       "(10, 20, 30, 40, 50, 60, 70, 80, 90, 100)"
      ]
     },
     "execution_count": 12,
     "metadata": {},
     "output_type": "execute_result"
    }
   ],
   "source": [
    "# 일부분을 추출한다.\n",
    "t6 = 10, 20, 30, 40, 50, 60, 70, 80, 90, 100\n",
    "t6"
   ]
  },
  {
   "cell_type": "code",
   "execution_count": 13,
   "metadata": {},
   "outputs": [
    {
     "name": "stdout",
     "output_type": "stream",
     "text": [
      "(10, 20, 30, 40, 50, 60, 70, 80, 90, 100)\n",
      "(30, 40, 50, 60)\n"
     ]
    }
   ],
   "source": [
    "# 인덱스 2  ~ 6 - 1 까지...(새로운 튜플로 생성한다.)\n",
    "t7 = t6[2:6]\n",
    "print(t6)\n",
    "print(t7)"
   ]
  },
  {
   "cell_type": "code",
   "execution_count": 14,
   "metadata": {},
   "outputs": [
    {
     "name": "stdout",
     "output_type": "stream",
     "text": [
      "(10, 20, 30, 40, 50, 60)\n"
     ]
    }
   ],
   "source": [
    "# 처음 ~ 6 - 1까지\n",
    "t8 = t6[:6]\n",
    "print(t8)"
   ]
  },
  {
   "cell_type": "code",
   "execution_count": 15,
   "metadata": {},
   "outputs": [
    {
     "name": "stdout",
     "output_type": "stream",
     "text": [
      "(30, 40, 50, 60, 70, 80, 90, 100)\n"
     ]
    }
   ],
   "source": [
    "# 인덱스 2 ~ 끝까지\n",
    "t9 = t6[2:]\n",
    "print(t9)"
   ]
  },
  {
   "cell_type": "code",
   "execution_count": 16,
   "metadata": {},
   "outputs": [
    {
     "name": "stdout",
     "output_type": "stream",
     "text": [
      "10\n",
      "20\n",
      "30\n"
     ]
    }
   ],
   "source": [
    "# unpacking\n",
    "# 튜플이 관리하는 값의 개수 만큼 변수를 나열 해 주면\n",
    "# 해당 변수에 1:1 대응해서 값을 담아준다.\n",
    "# 변수의 개수는 반드시 튜플이 관리하는 값의 개수와 일치해야 합니다.\n",
    "t7 = 10, 20, 30\n",
    "\n",
    "a1, a2, a3 = t7\n",
    "\n",
    "print(a1)\n",
    "print(a2)\n",
    "print(a3)"
   ]
  },
  {
   "cell_type": "code",
   "execution_count": 17,
   "metadata": {},
   "outputs": [
    {
     "name": "stdout",
     "output_type": "stream",
     "text": [
      "13\n",
      "7\n",
      "30\n",
      "3\n"
     ]
    }
   ],
   "source": [
    "# 함수에 응용\n",
    "a1, a2, a3, a4 = test1(10, 3)\n",
    "print(a1)\n",
    "print(a2)\n",
    "print(a3)\n",
    "print(a4)"
   ]
  },
  {
   "cell_type": "code",
   "execution_count": 18,
   "metadata": {},
   "outputs": [
    {
     "name": "stdout",
     "output_type": "stream",
     "text": [
      "10\n",
      "20\n",
      "30\n",
      "40\n"
     ]
    }
   ],
   "source": [
    "# 변수에 응용\n",
    "a100, a200, a300, a400 = 10, 20, 30, 40\n",
    "print(a100)\n",
    "print(a200)\n",
    "print(a300)\n",
    "print(a400)"
   ]
  },
  {
   "cell_type": "code",
   "execution_count": 19,
   "metadata": {},
   "outputs": [
    {
     "name": "stdout",
     "output_type": "stream",
     "text": [
      "10\n",
      "20\n",
      "30\n",
      "40\n",
      "50\n"
     ]
    }
   ],
   "source": [
    "# for 문\n",
    "# for 문은 리스트, 튜플 등과 같이 값을 관리하는 요소와 함께 사용한다.\n",
    "# 관리하는 값의 개수만큼 반복하여 매 반복시 값을 전달한다.\n",
    "t10 = 10, 20, 30, 40, 50\n",
    "\n",
    "for value in t10 :\n",
    "    print(value)"
   ]
  },
  {
   "cell_type": "markdown",
   "metadata": {},
   "source": [
    "### 리스트\n",
    "- 기본적으로 튜플과 비슷하다\n",
    "- 앞서 살펴본 내용은 리스트도 동일하다.\n",
    "- 읽기 뿐만 아니라, 추가, 수정, 삭제 등이 가능하다.\n",
    "- 튜플보다 메모리를 많이 먹고 속도가 느리지만 체감하기는 어렵다"
   ]
  },
  {
   "cell_type": "code",
   "execution_count": 20,
   "metadata": {},
   "outputs": [
    {
     "name": "stdout",
     "output_type": "stream",
     "text": [
      "<class 'list'>\n",
      "<class 'list'>\n",
      "<class 'list'>\n",
      "[]\n",
      "[]\n",
      "[10, 20, 30, 40, 50]\n"
     ]
    }
   ],
   "source": [
    "# 리스트 생성\n",
    "# 리스트는 나중에 값 추가가 가능하므로 비어있는 리스트를 만드는 것이\n",
    "# 의미가 있다.\n",
    "l1 = list()\n",
    "l2 = []\n",
    "l3 = [10, 20, 30, 40, 50]\n",
    "\n",
    "print(type(l1))\n",
    "print(type(l2))\n",
    "print(type(l3))\n",
    "\n",
    "print(l1)\n",
    "print(l2)\n",
    "print(l3)"
   ]
  },
  {
   "cell_type": "code",
   "execution_count": 21,
   "metadata": {},
   "outputs": [
    {
     "name": "stdout",
     "output_type": "stream",
     "text": [
      "10\n",
      "[20, 30, 40]\n",
      "10\n",
      "20\n",
      "30\n",
      "40\n",
      "50\n"
     ]
    }
   ],
   "source": [
    "# 값을 가져오는 것은 튜플과 동일하다.\n",
    "a1 = l3[0]\n",
    "a2 = l3[1:4]\n",
    "a3, a4, a5, a6, a7 = l3\n",
    "print(a1)\n",
    "print(a2)\n",
    "print(a3)\n",
    "print(a4)\n",
    "print(a5)\n",
    "print(a6)\n",
    "print(a7)"
   ]
  },
  {
   "cell_type": "code",
   "execution_count": 22,
   "metadata": {},
   "outputs": [
    {
     "name": "stdout",
     "output_type": "stream",
     "text": [
      "추가 전 : [10, 20, 30, 40, 50]\n",
      "추가 후 : [10, 20, 30, 40, 50, 60, 70]\n"
     ]
    }
   ],
   "source": [
    "# 추가\n",
    "print(f'추가 전 : {l3}')\n",
    "\n",
    "l3.append(60)\n",
    "l3.append(70)\n",
    "\n",
    "print(f'추가 후 : {l3}')"
   ]
  },
  {
   "cell_type": "code",
   "execution_count": 23,
   "metadata": {},
   "outputs": [
    {
     "name": "stdout",
     "output_type": "stream",
     "text": [
      "연산 전 : [10, 20, 30, 40, 50, 60, 70]\n",
      "연산 후 : [10, 20, 30, 40, 50, 60, 70]\n",
      "새롭게 생성된 요소 : [10, 20, 30, 40, 50, 60, 70, 80, 90, 100]\n"
     ]
    }
   ],
   "source": [
    "# + 연산 : 더하기 연산은 튜플, 리스트 모두 가능하다.\n",
    "# 두 요소의 모든 데이터를 추출해 합친다음 새로운 튜플이나 리스트를\n",
    "# 생성해서 반환한다. 원본은 유지된다.\n",
    "print(f'연산 전 : {l3}')\n",
    "\n",
    "l4 = l3 + [80, 90, 100]\n",
    "\n",
    "print(f'연산 후 : {l3}')\n",
    "print(f'새롭게 생성된 요소 : {l4}')"
   ]
  },
  {
   "cell_type": "code",
   "execution_count": 24,
   "metadata": {},
   "outputs": [
    {
     "name": "stdout",
     "output_type": "stream",
     "text": [
      "[10, 20, 30, 10, 20, 30, 10, 20, 30]\n"
     ]
    }
   ],
   "source": [
    "# 곱하기 연산 : 튜플이나 리스트를 곱하기 연산을 하게 되면\n",
    "# 관리하는 값들을 곱하는 수 만큼 반복한 새로운 요소를 생성한다.\n",
    "l100 = [10, 20, 30]\n",
    "\n",
    "l200 = l100 * 3\n",
    "print(l200)"
   ]
  },
  {
   "cell_type": "code",
   "execution_count": 25,
   "metadata": {},
   "outputs": [
    {
     "name": "stdout",
     "output_type": "stream",
     "text": [
      "삽입전 : [10, 20, 30]\n",
      "삽입후 : [10, 1000, 20, 30]\n"
     ]
    }
   ],
   "source": [
    "# 삽입\n",
    "print(f'삽입전 : {l100}')\n",
    "# (삽입 위치 인덱스, 삽입할 값)\n",
    "l100.insert(1, 1000)\n",
    "print(f'삽입후 : {l100}')"
   ]
  },
  {
   "cell_type": "code",
   "execution_count": 27,
   "metadata": {},
   "outputs": [
    {
     "name": "stdout",
     "output_type": "stream",
     "text": [
      "수정전 : [10, 1000, 20, 30]\n",
      "수정후 : [10, 2000, 20, 30]\n"
     ]
    }
   ],
   "source": [
    "# 수정\n",
    "# 대입 연산자로 값을 넣어준다.\n",
    "print(f'수정전 : {l100}')\n",
    "\n",
    "l100[1] = 2000\n",
    "\n",
    "print(f'수정후 : {l100}')"
   ]
  },
  {
   "cell_type": "code",
   "execution_count": 28,
   "metadata": {},
   "outputs": [
    {
     "name": "stdout",
     "output_type": "stream",
     "text": [
      "삭제 전 : [10, 2000, 20, 30]\n",
      "삭제 후 : [10, 20, 30]\n"
     ]
    }
   ],
   "source": [
    "# 인덱스를 지정하여 삭제\n",
    "print(f'삭제 전 : {l100}')\n",
    "\n",
    "del l100[1]\n",
    "\n",
    "print(f'삭제 후 : {l100}')"
   ]
  },
  {
   "cell_type": "code",
   "execution_count": 29,
   "metadata": {},
   "outputs": [
    {
     "name": "stdout",
     "output_type": "stream",
     "text": [
      "삭제 전 : [10, 20, 30]\n",
      "삭제 후 : [10, 30]\n"
     ]
    }
   ],
   "source": [
    "# 값을 지정하여 삭제한다.\n",
    "# 동일한 값이 있을 경우에는 제일 먼저 나오는 값을 삭제한다.\n",
    "print(f'삭제 전 : {l100}')\n",
    "\n",
    "l100.remove(20)\n",
    "\n",
    "print(f'삭제 후 : {l100}')"
   ]
  },
  {
   "cell_type": "markdown",
   "metadata": {},
   "source": [
    "### 상호 변환\n",
    "- 정확히는 새로운 튜플이나 리스트를 생성한다."
   ]
  },
  {
   "cell_type": "code",
   "execution_count": 30,
   "metadata": {},
   "outputs": [
    {
     "name": "stdout",
     "output_type": "stream",
     "text": [
      "(10, 20, 30, 40, 50)\n"
     ]
    }
   ],
   "source": [
    "t1 = 10, 20, 30, 40, 50\n",
    "print(t1)"
   ]
  },
  {
   "cell_type": "code",
   "execution_count": 31,
   "metadata": {},
   "outputs": [
    {
     "name": "stdout",
     "output_type": "stream",
     "text": [
      "[10, 20, 30, 40, 50]\n"
     ]
    }
   ],
   "source": [
    "# 튜플을 활용해 리스트를 생성한다.\n",
    "l1 = list(t1)\n",
    "print(l1)"
   ]
  },
  {
   "cell_type": "code",
   "execution_count": 32,
   "metadata": {},
   "outputs": [
    {
     "name": "stdout",
     "output_type": "stream",
     "text": [
      "(10, 20, 30, 40, 50)\n"
     ]
    }
   ],
   "source": [
    "# 리스트를 활용해 튜플을 생성한다.\n",
    "t2 = tuple(l1)\n",
    "print(t2)"
   ]
  },
  {
   "cell_type": "markdown",
   "metadata": {},
   "source": [
    "### 딕셔너리\n",
    "- 이름을 가지고 데이터를 관리한다.\n",
    "- 추가, 삭제, 수정 등이 가능하다."
   ]
  },
  {
   "cell_type": "code",
   "execution_count": 33,
   "metadata": {},
   "outputs": [
    {
     "name": "stdout",
     "output_type": "stream",
     "text": [
      "<class 'dict'>\n",
      "{}\n"
     ]
    }
   ],
   "source": [
    "# 함수를 통한 생성\n",
    "# 비어있는 딕셔너리가 생성된다.\n",
    "d1 = dict()\n",
    "print(type(d1))\n",
    "print(d1)"
   ]
  },
  {
   "cell_type": "code",
   "execution_count": 34,
   "metadata": {},
   "outputs": [
    {
     "name": "stdout",
     "output_type": "stream",
     "text": [
      "<class 'dict'>\n",
      "{}\n"
     ]
    }
   ],
   "source": [
    "# 기호를 통한 생성\n",
    "d2 = {}\n",
    "print(type(d2))\n",
    "print(d2)"
   ]
  },
  {
   "cell_type": "code",
   "execution_count": 35,
   "metadata": {},
   "outputs": [
    {
     "name": "stdout",
     "output_type": "stream",
     "text": [
      "<class 'dict'>\n",
      "{'k1': 100, 'k2': 11.11, 'k3': '문자열'}\n"
     ]
    }
   ],
   "source": [
    "# 데이터를 지정하여 생성\n",
    "# 이름 : 값 형태로 작성한다.\n",
    "# 이름은 반드시 문자열인 것은 아니다. 이름은 정수, 실수 등등\n",
    "# 다양한 형태의 값을 사용할 수 있다.\n",
    "d3 = {\n",
    "    'k1' : 100,\n",
    "    'k2' : 11.11,\n",
    "    'k3' : '문자열'\n",
    "}\n",
    "print(type(d3))\n",
    "print(d3)"
   ]
  },
  {
   "cell_type": "code",
   "execution_count": 36,
   "metadata": {},
   "outputs": [
    {
     "name": "stdout",
     "output_type": "stream",
     "text": [
      "11.11\n",
      "11.11\n"
     ]
    }
   ],
   "source": [
    "# 값을 가져온다.\n",
    "print(d3['k2'])\n",
    "print(d3.get('k2'))"
   ]
  },
  {
   "cell_type": "code",
   "execution_count": 37,
   "metadata": {},
   "outputs": [
    {
     "ename": "KeyError",
     "evalue": "'k100'",
     "output_type": "error",
     "traceback": [
      "\u001b[1;31m---------------------------------------------------------------------------\u001b[0m",
      "\u001b[1;31mKeyError\u001b[0m                                  Traceback (most recent call last)",
      "\u001b[1;32m<ipython-input-37-cd8e06567425>\u001b[0m in \u001b[0;36m<module>\u001b[1;34m\u001b[0m\n\u001b[0;32m      1\u001b[0m \u001b[1;31m# 없는 것을 가져온다.\u001b[0m\u001b[1;33m\u001b[0m\u001b[1;33m\u001b[0m\u001b[1;33m\u001b[0m\u001b[0m\n\u001b[1;32m----> 2\u001b[1;33m \u001b[0mprint\u001b[0m\u001b[1;33m(\u001b[0m\u001b[0md3\u001b[0m\u001b[1;33m[\u001b[0m\u001b[1;34m'k100'\u001b[0m\u001b[1;33m]\u001b[0m\u001b[1;33m)\u001b[0m\u001b[1;33m\u001b[0m\u001b[1;33m\u001b[0m\u001b[0m\n\u001b[0m",
      "\u001b[1;31mKeyError\u001b[0m: 'k100'"
     ]
    }
   ],
   "source": [
    "# 없는 것을 가져온다.\n",
    "# 오류가 발생한다.\n",
    "print(d3['k100'])"
   ]
  },
  {
   "cell_type": "code",
   "execution_count": 38,
   "metadata": {},
   "outputs": [
    {
     "name": "stdout",
     "output_type": "stream",
     "text": [
      "None\n"
     ]
    }
   ],
   "source": [
    "# get함수는 없는 이름을 넣어주면 None을 반환한다.\n",
    "print(d3.get('k100'))"
   ]
  },
  {
   "cell_type": "code",
   "execution_count": 42,
   "metadata": {},
   "outputs": [
    {
     "name": "stdout",
     "output_type": "stream",
     "text": [
      "True\n",
      "True\n",
      "True\n",
      "False\n",
      "False\n",
      "False\n"
     ]
    }
   ],
   "source": [
    "# 딕셔너리에 이 이름의 값이 있는지 확인\n",
    "# 튜플이나 리스트는 이 값이 있는지를 확인할 수 있다.\n",
    "a1 = 10, 20, 30, 40, 50\n",
    "a2 = [10, 20, 30, 40, 50]\n",
    "a3 = {'k1' : 100, 'k2' : 200}\n",
    "\n",
    "print(30 in a1)\n",
    "print(30 in a2)\n",
    "print('k1' in a3)\n",
    "\n",
    "print(100 in a1)\n",
    "print(100 in a2)\n",
    "print('k100' in a3)"
   ]
  },
  {
   "cell_type": "code",
   "execution_count": 44,
   "metadata": {},
   "outputs": [
    {
     "name": "stdout",
     "output_type": "stream",
     "text": [
      "추가전 : {'k1': 100, 'k2': 11.11, 'k3': '문자열'}\n",
      "추가후 : {'k1': 100, 'k2': 11.11, 'k3': '문자열', 'k100': 1000}\n"
     ]
    }
   ],
   "source": [
    "# 추가 : 없는 이름으로 값을 저장한다.\n",
    "print(f'추가전 : {d3}')\n",
    "\n",
    "d3['k100'] = 1000\n",
    "\n",
    "print(f'추가후 : {d3}')"
   ]
  },
  {
   "cell_type": "code",
   "execution_count": 45,
   "metadata": {},
   "outputs": [
    {
     "name": "stdout",
     "output_type": "stream",
     "text": [
      "수정전 : {'k1': 100, 'k2': 11.11, 'k3': '문자열', 'k100': 1000}\n",
      "수정후 : {'k1': 100, 'k2': 11.11, 'k3': '문자열', 'k100': 2000}\n"
     ]
    }
   ],
   "source": [
    "# 수정 : 있는 이름으로 값을 넣어준다\n",
    "print(f'수정전 : {d3}')\n",
    "\n",
    "d3['k100'] = 2000\n",
    "\n",
    "print(f'수정후 : {d3}')"
   ]
  },
  {
   "cell_type": "code",
   "execution_count": 46,
   "metadata": {},
   "outputs": [
    {
     "name": "stdout",
     "output_type": "stream",
     "text": [
      "삭제전 : {'k1': 100, 'k2': 11.11, 'k3': '문자열', 'k100': 2000}\n",
      "삭제후 : {'k1': 100, 'k2': 11.11, 'k3': '문자열'}\n"
     ]
    }
   ],
   "source": [
    "# 삭제\n",
    "print(f'삭제전 : {d3}')\n",
    "\n",
    "del d3['k100']\n",
    "\n",
    "print(f'삭제후 : {d3}')"
   ]
  },
  {
   "cell_type": "markdown",
   "metadata": {},
   "source": [
    "### range \n",
    "- 지정된 범위 값을 관리하는 요소를 생성하고자 할 때 사용"
   ]
  },
  {
   "cell_type": "code",
   "execution_count": 49,
   "metadata": {},
   "outputs": [
    {
     "name": "stdout",
     "output_type": "stream",
     "text": [
      "range(0, 10)\n"
     ]
    }
   ],
   "source": [
    "# 0 ~ 10 - 1 까지\n",
    "r1 = range(10)\n",
    "print(r1)"
   ]
  },
  {
   "cell_type": "code",
   "execution_count": 50,
   "metadata": {},
   "outputs": [
    {
     "name": "stdout",
     "output_type": "stream",
     "text": [
      "(0, 1, 2, 3, 4, 5, 6, 7, 8, 9)\n",
      "[0, 1, 2, 3, 4, 5, 6, 7, 8, 9]\n"
     ]
    }
   ],
   "source": [
    "# range를 활용해 리스트, 튜플을 생성한다.\n",
    "t1 = tuple(r1)\n",
    "l1 = list(r1)\n",
    "\n",
    "print(t1)\n",
    "print(l1)"
   ]
  },
  {
   "cell_type": "code",
   "execution_count": 51,
   "metadata": {},
   "outputs": [
    {
     "name": "stdout",
     "output_type": "stream",
     "text": [
      "[3, 4, 5, 6, 7, 8, 9, 10, 11, 12, 13]\n"
     ]
    }
   ],
   "source": [
    "# 3 ~ 14 - 1 까지\n",
    "r2 = range(3, 14)\n",
    "print(list(r2))"
   ]
  },
  {
   "cell_type": "code",
   "execution_count": 52,
   "metadata": {},
   "outputs": [
    {
     "name": "stdout",
     "output_type": "stream",
     "text": [
      "[3, 5, 7, 9, 11, 13]\n"
     ]
    }
   ],
   "source": [
    "# 3 ~ 14 - 1 까지, 2씩 증가\n",
    "r3 = range(3, 14, 2)\n",
    "print(list(r3))"
   ]
  },
  {
   "cell_type": "code",
   "execution_count": 54,
   "metadata": {},
   "outputs": [
    {
     "name": "stdout",
     "output_type": "stream",
     "text": [
      "안녕하세요\n",
      "0\n",
      "안녕하세요\n",
      "1\n",
      "안녕하세요\n",
      "2\n",
      "안녕하세요\n",
      "3\n",
      "안녕하세요\n",
      "4\n"
     ]
    }
   ],
   "source": [
    "# range를 이용해 for문을 운영한다.\n",
    "for value in range(5) :\n",
    "    print('안녕하세요')\n",
    "    print(value)"
   ]
  },
  {
   "cell_type": "markdown",
   "metadata": {},
   "source": [
    "### enumerate\n",
    "- 리스트나 튜플 등을 사용할 때 for문을 이용할 수 있다\n",
    "- 허나 지금이 몇번 반복회차인지를 파악하려면 구현을 해야 한다.\n",
    "- enumerate 함수를 사용하면 (인덱스, 값) 형태로 구성된 튜플을 생성할 수 있다\n",
    "- 이를 통해 반복 회차를 파악하는 것이 가능하다."
   ]
  },
  {
   "cell_type": "code",
   "execution_count": 56,
   "metadata": {},
   "outputs": [
    {
     "data": {
      "text/plain": [
       "(10, 20, 30, 40, 50)"
      ]
     },
     "execution_count": 56,
     "metadata": {},
     "output_type": "execute_result"
    }
   ],
   "source": [
    "t1 = 10, 20, 30, 40, 50\n",
    "t1"
   ]
  },
  {
   "cell_type": "code",
   "execution_count": 58,
   "metadata": {},
   "outputs": [
    {
     "data": {
      "text/plain": [
       "[(0, 10), (1, 20), (2, 30), (3, 40), (4, 50)]"
      ]
     },
     "execution_count": 58,
     "metadata": {},
     "output_type": "execute_result"
    }
   ],
   "source": [
    "# enumerate 함수 사용\n",
    "e1 = enumerate(t1)\n",
    "list(e1)"
   ]
  },
  {
   "cell_type": "code",
   "execution_count": 60,
   "metadata": {},
   "outputs": [
    {
     "name": "stdout",
     "output_type": "stream",
     "text": [
      "0 - 10\n",
      "1 - 20\n",
      "2 - 30\n",
      "3 - 40\n",
      "4 - 50\n"
     ]
    }
   ],
   "source": [
    "for idx, value in enumerate(t1) :\n",
    "    print(f'{idx} - {value}')"
   ]
  },
  {
   "cell_type": "code",
   "execution_count": null,
   "metadata": {},
   "outputs": [],
   "source": []
  }
 ],
 "metadata": {
  "kernelspec": {
   "display_name": "Python 3 (ipykernel)",
   "language": "python",
   "name": "python3"
  },
  "language_info": {
   "codemirror_mode": {
    "name": "ipython",
    "version": 3
   },
   "file_extension": ".py",
   "mimetype": "text/x-python",
   "name": "python",
   "nbconvert_exporter": "python",
   "pygments_lexer": "ipython3",
   "version": "3.11.4"
  },
  "varInspector": {
   "cols": {
    "lenName": 16,
    "lenType": 16,
    "lenVar": 40
   },
   "kernels_config": {
    "python": {
     "delete_cmd_postfix": "",
     "delete_cmd_prefix": "del ",
     "library": "var_list.py",
     "varRefreshCmd": "print(var_dic_list())"
    },
    "r": {
     "delete_cmd_postfix": ") ",
     "delete_cmd_prefix": "rm(",
     "library": "var_list.r",
     "varRefreshCmd": "cat(var_dic_list()) "
    }
   },
   "types_to_exclude": [
    "module",
    "function",
    "builtin_function_or_method",
    "instance",
    "_Feature"
   ],
   "window_display": false
  }
 },
 "nbformat": 4,
 "nbformat_minor": 4
}
